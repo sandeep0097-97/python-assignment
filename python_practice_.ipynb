{
  "nbformat": 4,
  "nbformat_minor": 0,
  "metadata": {
    "colab": {
      "provenance": [],
      "authorship_tag": "ABX9TyMZSdLwZOYEy8TTzR4pMWhX",
      "include_colab_link": true
    },
    "kernelspec": {
      "name": "python3",
      "display_name": "Python 3"
    },
    "language_info": {
      "name": "python"
    }
  },
  "cells": [
    {
      "cell_type": "markdown",
      "metadata": {
        "id": "view-in-github",
        "colab_type": "text"
      },
      "source": [
        "<a href=\"https://colab.research.google.com/github/sandeep0097-97/python-assignment/blob/main/python_practice_.ipynb\" target=\"_parent\"><img src=\"https://colab.research.google.com/assets/colab-badge.svg\" alt=\"Open In Colab\"/></a>"
      ]
    },
    {
      "cell_type": "code",
      "execution_count": 1,
      "metadata": {
        "colab": {
          "base_uri": "https://localhost:8080/"
        },
        "id": "XfOEKTAdAYlW",
        "outputId": "ff8b0fa8-2f04-4402-e0ab-73900858275a"
      },
      "outputs": [
        {
          "output_type": "stream",
          "name": "stdout",
          "text": [
            "Twinkle, twinkle, little star, \n",
            "\tHow I wonder what you are! \n",
            "\t\tUp above the world so high, \n",
            "\t\tLike a diamond in the sky. \n",
            "Twinkle, twinkle, little star, \n",
            "\tHow I wonder what you are!\n"
          ]
        }
      ],
      "source": [
        "print(\"Twinkle, twinkle, little star, \\n\\tHow I wonder what you are! \\n\\t\\tUp above the world so high, \\n\\t\\tLike a diamond in the sky. \\nTwinkle, twinkle, little star, \\n\\tHow I wonder what you are!\")\n"
      ]
    },
    {
      "cell_type": "code",
      "source": [
        "# Prompt the user to input a sequence of comma-separated numbers and store it in the 'values' variable\n",
        "values = input(\"Input some comma-separated numbers: \")\n",
        "\n",
        "# Split the 'values' string into a list using commas as separators and store it in the 'list' variable\n",
        "list = values.split(\",\")\n",
        "\n",
        "# Convert the 'list' into a tuple and store it in the 'tuple' variable\n",
        "tuple = tuple(list)\n",
        "\n",
        "# Print the list\n",
        "print('List : ', list)\n",
        "\n",
        "# Print the tuple\n",
        "print('Tuple : ', tuple)\n"
      ],
      "metadata": {
        "colab": {
          "base_uri": "https://localhost:8080/"
        },
        "id": "FsgszZTmAcHt",
        "outputId": "e538f708-5bee-48b4-c21e-bb57ecde2a13"
      },
      "execution_count": 2,
      "outputs": [
        {
          "output_type": "stream",
          "name": "stdout",
          "text": [
            "Input some comma-separated numbers: 1,2,2,2\n",
            "List :  ['1', '2', '2', '2']\n",
            "Tuple :  ('1', '2', '2', '2')\n"
          ]
        }
      ]
    },
    {
      "cell_type": "code",
      "source": [
        "for i in range(1,5):\n",
        "  for j in range(1,5):\n",
        "    if j>=i:\n",
        "      print(\"1\",end=' ')\n",
        "    else:\n",
        "      print(\" \",end=' ')\n",
        "  print()"
      ],
      "metadata": {
        "colab": {
          "base_uri": "https://localhost:8080/"
        },
        "id": "NWIn5467BUOS",
        "outputId": "3eadbb03-5b86-4d4b-cb7c-909841e91c26"
      },
      "execution_count": 1,
      "outputs": [
        {
          "output_type": "stream",
          "name": "stdout",
          "text": [
            "1 1 1 1 \n",
            "  1 1 1 \n",
            "    1 1 \n",
            "      1 \n"
          ]
        }
      ]
    },
    {
      "cell_type": "code",
      "source": [
        "for i in range(1,5):\n",
        "  for j in range(1,5):\n",
        "    if j<=5-i:\n",
        "      print(\"1\",end=' ')\n",
        "    else:\n",
        "      print(\" \",end=' ')\n",
        "  print()"
      ],
      "metadata": {
        "colab": {
          "base_uri": "https://localhost:8080/"
        },
        "id": "mwj5X8EYs9Kb",
        "outputId": "ae9552c3-c1d4-4ade-9992-3a0d58e97132"
      },
      "execution_count": 5,
      "outputs": [
        {
          "output_type": "stream",
          "name": "stdout",
          "text": [
            "1 1 1 1 \n",
            "1 1 1   \n",
            "1 1     \n",
            "1       \n"
          ]
        }
      ]
    },
    {
      "cell_type": "code",
      "source": [
        "colour =[\"Red\",\"White\",\"Black\",\"Blue\"]\n",
        "print(\"FIRST AND LAST COLOUR OF LIST\")\n",
        "print(colour[0],colour[-1])"
      ],
      "metadata": {
        "colab": {
          "base_uri": "https://localhost:8080/"
        },
        "id": "MoL6G8Xwtncc",
        "outputId": "61df3500-10cc-428c-a292-5c2cb637b542"
      },
      "execution_count": 7,
      "outputs": [
        {
          "output_type": "stream",
          "name": "stdout",
          "text": [
            "FIRST AND LAST COLOUR OF LIST\n",
            "Red Blue\n"
          ]
        }
      ]
    },
    {
      "cell_type": "code",
      "source": [
        "# Get user input for a list of colors\n",
        "user_input = input(\"Enter a list of colors separated by commas: \")\n",
        "\n",
        "# Split the user input into a list of colors\n",
        "color_list = user_input.split(',')\n",
        "\n",
        "# Display the first color\n",
        "if color_list:\n",
        "    print(\"First color:\", color_list[0])\n",
        "else:\n",
        "    print(\"No colors entered.\")\n",
        "\n",
        "# Display the last color\n",
        "if color_list:\n",
        "    print(\"Last color:\", color_list[-1])\n",
        "else:\n",
        "    print(\"No colors entered.\")\n",
        "\n",
        "\n"
      ],
      "metadata": {
        "colab": {
          "base_uri": "https://localhost:8080/"
        },
        "id": "VUjB7gY2yef6",
        "outputId": "fc967e08-91f0-44a9-8a9e-6a18ef36b56f"
      },
      "execution_count": 8,
      "outputs": [
        {
          "output_type": "stream",
          "name": "stdout",
          "text": [
            "Enter a list of colors separated by commas: red,blue,yellow,green\n",
            "First color: red\n",
            "Last color: green\n"
          ]
        }
      ]
    },
    {
      "cell_type": "code",
      "source": [
        "# Define a function 'sum' that takes two integer inputs: x and y.\n",
        "def sum(x, y):\n",
        "    # Calculate the sum of x and y and store it in the 'sum' variable.\n",
        "    sum = x + y\n",
        "    # Check if the calculated sum is within the range [15, 20) (inclusive on 15, exclusive on 20).\n",
        "    if sum in range(15, 20):\n",
        "        # If the sum is within the range, return 20.\n",
        "        return 20\n",
        "    else:\n",
        "        # If the sum is outside the range, return the calculated sum.\n",
        "        return sum\n",
        "\n",
        "# Test the 'sum' function with different sets of input values and print the results.\n",
        "print(sum(10, 6))\n",
        "print(sum(10, 2))\n",
        "print(sum(10, 12))\n"
      ],
      "metadata": {
        "colab": {
          "base_uri": "https://localhost:8080/"
        },
        "id": "XRRfvFa7yqK4",
        "outputId": "21d4c106-d722-4f5b-d600-8a65bb561fd2"
      },
      "execution_count": 9,
      "outputs": [
        {
          "output_type": "stream",
          "name": "stdout",
          "text": [
            "20\n",
            "12\n",
            "22\n"
          ]
        }
      ]
    },
    {
      "cell_type": "code",
      "source": [
        "# Prompt the user for input and convert it to an integer.\n",
        "n = int(input(\"Input a number: \"))\n",
        "\n",
        "# Calculate the sum of the first 'n' positive integers using the formula.\n",
        "sum_num = (n * (n + 1)) / 2\n",
        "\n",
        "# Print the result, indicating the sum of the first 'n' positive integers.\n",
        "print(\"Sum of the first\", n, \"positive integers:\", sum_num)\n"
      ],
      "metadata": {
        "colab": {
          "base_uri": "https://localhost:8080/"
        },
        "id": "4CBvrDJZzqZF",
        "outputId": "8ab39731-5746-4ebe-bdcb-00098a0e5ffd"
      },
      "execution_count": 10,
      "outputs": [
        {
          "output_type": "stream",
          "name": "stdout",
          "text": [
            "Input a number: 5\n",
            "Sum of the first 5 positive integers: 15.0\n"
          ]
        }
      ]
    },
    {
      "cell_type": "code",
      "source": [
        "# Prompt the user to input their height in feet and convert it to a floating-point number.\n",
        "height = float(input(\"Input your height in Feet: \"))\n",
        "\n",
        "# Prompt the user to input their weight in kilograms and convert it to a floating-point number.\n",
        "weight = float(input(\"Input your weight in Kilograms: \"))\n",
        "\n",
        "# Calculate the body mass index (BMI) using the provided height and weight and round it to 2 decimal places.\n",
        "bmi = weight / (height * height)\n",
        "rounded_bmi = round(bmi, 2)\n",
        "\n",
        "# Print the calculated BMI.\n",
        "print(\"Your body mass index is: \", rounded_bmi)\n"
      ],
      "metadata": {
        "colab": {
          "base_uri": "https://localhost:8080/"
        },
        "id": "e_RB85R30ACe",
        "outputId": "2b3f5559-7109-4938-b0cb-ba797225cd0a"
      },
      "execution_count": 11,
      "outputs": [
        {
          "output_type": "stream",
          "name": "stdout",
          "text": [
            "Input your height in Feet: 5.10\n",
            "Input your weight in Kilograms: 65\n",
            "Your body mass index is:  2.5\n"
          ]
        }
      ]
    },
    {
      "cell_type": "code",
      "source": [
        "# Get user input for a list of numbers\n",
        "user_input = input(\"Enter a list of numbers separated by commas: \")\n",
        "\n",
        "# Split the user input into a list of integers\n",
        "nums = [int(num) for num in user_input.split(',')]\n",
        "\n",
        "# Print a message along with the original list of numbers.\n",
        "print(\"Original numbers in the list: \", nums)\n",
        "\n",
        "# Print a message indicating that positive numbers in the list will be listed.\n",
        "print(\"Positive numbers in the said list: \")\n",
        "\n",
        "# Iterate through each number in the \"nums\" list.\n",
        "for pos_nums in nums:\n",
        "    # Check if the number is greater than 0 (positive).\n",
        "    if pos_nums > 0:\n",
        "        # Print positive numbers on the same line with a space separator.\n",
        "        print(pos_nums, end=\" \")\n"
      ],
      "metadata": {
        "colab": {
          "base_uri": "https://localhost:8080/"
        },
        "id": "YyN-su9q2CZ7",
        "outputId": "c6788202-5cdd-4378-bcc6-b7a6ad362a2a"
      },
      "execution_count": 17,
      "outputs": [
        {
          "output_type": "stream",
          "name": "stdout",
          "text": [
            "Enter a list of numbers separated by commas: 3,4,5\n",
            "Original numbers in the list:  [3, 4, 5]\n",
            "Positive numbers in the said list: \n",
            "3 4 5 "
          ]
        }
      ]
    },
    {
      "cell_type": "code",
      "source": [
        "# Get user input for the value of x\n",
        "user_input = input(\"Enter a value for x: \")\n",
        "\n",
        "# Try to convert the user input to a tuple, set, or list\n",
        "try:\n",
        "    x = eval(user_input)\n",
        "except:\n",
        "    x = None\n",
        "\n",
        "# Check the type of x using the 'type()' function and print a message accordingly.\n",
        "if type(x) is list:\n",
        "    print('x is a list')\n",
        "elif type(x) is set:\n",
        "    print('x is a set')\n",
        "elif type(x) is tuple:\n",
        "    print('x is a tuple')\n",
        "else:\n",
        "    print('Neither a list nor a set nor a tuple.')\n"
      ],
      "metadata": {
        "colab": {
          "base_uri": "https://localhost:8080/"
        },
        "id": "MU7RmTAk3QFR",
        "outputId": "79f88406-a74a-4cf4-b2ae-8f3cb8363f07"
      },
      "execution_count": 20,
      "outputs": [
        {
          "output_type": "stream",
          "name": "stdout",
          "text": [
            "Enter a value for x: [1,2,3,4,5]\n",
            "x is a list\n"
          ]
        }
      ]
    },
    {
      "cell_type": "code",
      "source": [],
      "metadata": {
        "id": "xqJu-hGl3xZs"
      },
      "execution_count": null,
      "outputs": []
    }
  ]
}